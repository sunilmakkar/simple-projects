import random

def flip():
  flip = random.random()
  if (flip>=0.5):
    return True
  else:
    return False

def main(num):
  heads = 0
  tails = 0
  resultstring = " "

  for i in range(int(num)):
    if (flip()):
      heads += 1
      resultstring += "H"
    else:
      tails += 1
      resultstring += "T"

  print("Number of Heads: %i" %(heads))
  print("Number of Tails: %i" %(tails))
  print(resultstring)

userinput = input("Please enter a number of flips: ")
main(userinput)
